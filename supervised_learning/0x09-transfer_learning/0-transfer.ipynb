{
  "nbformat": 4,
  "nbformat_minor": 0,
  "metadata": {
    "colab": {
      "name": "0-transfer.ipynb",
      "provenance": []
    },
    "kernelspec": {
      "name": "python3",
      "display_name": "Python 3"
    },
    "accelerator": "GPU"
  },
  "cells": [
    {
      "cell_type": "code",
      "metadata": {
        "id": "Mk2NEjhb2noL",
        "outputId": "41324383-96c0-4c1d-d1f7-c19be6a66ae3",
        "colab": {
          "base_uri": "https://localhost:8080/",
          "height": 35
        }
      },
      "source": [
        "%tensorflow_version 1.x"
      ],
      "execution_count": 1,
      "outputs": [
        {
          "output_type": "stream",
          "text": [
            "TensorFlow 1.x selected.\n"
          ],
          "name": "stdout"
        }
      ]
    },
    {
      "cell_type": "code",
      "metadata": {
        "id": "M8uqQpdk2XCX"
      },
      "source": [
        "import tensorflow.keras as K\n",
        "import tensorflow as tf"
      ],
      "execution_count": 2,
      "outputs": []
    },
    {
      "cell_type": "code",
      "metadata": {
        "id": "WOqsYMD58RKv",
        "outputId": "44bc82d0-dcb6-4b01-c11f-80095b71f621",
        "colab": {
          "base_uri": "https://localhost:8080/",
          "height": 35
        }
      },
      "source": [
        "device_name = tf.test.gpu_device_name()\n",
        "print(device_name)"
      ],
      "execution_count": 3,
      "outputs": [
        {
          "output_type": "stream",
          "text": [
            "/device:GPU:0\n"
          ],
          "name": "stdout"
        }
      ]
    },
    {
      "cell_type": "code",
      "metadata": {
        "id": "77jpakq43I2k"
      },
      "source": [
        "def preprocess_data(X, Y):\n",
        "    \"\"\"\n",
        "    Pre-processes the the CIFAR 10 dataset for the VGG16 model\n",
        "\n",
        "        Args:\n",
        "            X is a numpy.ndarray of shape (m, 32, 32, 3)\n",
        "                containing the CIFAR 10 data, where m is\n",
        "                the number of data points\n",
        "            Y is a numpy.ndarray of shape (m,) containing\n",
        "                the CIFAR 10 labels for X\n",
        "\n",
        "        Returns:\n",
        "            X_p, Y_p where:\n",
        "                X_p is a numpy.ndarray containing the preprocessed X\n",
        "                Y_p is a numpy.ndarray containing the preprocessed Y\n",
        "    \"\"\"\n",
        "    X_p = K.applications.vgg16.preprocess_input(X)\n",
        "    Y_p = K.utils.to_categorical(Y, 10)\n",
        "    return X_p, Y_p"
      ],
      "execution_count": 4,
      "outputs": []
    },
    {
      "cell_type": "code",
      "metadata": {
        "id": "WFHcurHU8cms"
      },
      "source": [
        "\n",
        "# load cifar 10 dataset\n",
        "(x_train, y_train), (x_test, y_test) = K.datasets.cifar10.load_data()"
      ],
      "execution_count": 5,
      "outputs": []
    },
    {
      "cell_type": "code",
      "metadata": {
        "id": "_LOyRsKf882i"
      },
      "source": [
        "# prepare data\n",
        "x_train, y_train = preprocess_data(x_train, y_train)\n",
        "x_test, y_test = preprocess_data(x_test, y_test)"
      ],
      "execution_count": 6,
      "outputs": []
    },
    {
      "cell_type": "code",
      "metadata": {
        "id": "JyfyVd1y-1B0"
      },
      "source": [
        "# input tensor\n",
        "input = K.Input(shape=(32, 32, 3))"
      ],
      "execution_count": 7,
      "outputs": []
    },
    {
      "cell_type": "code",
      "metadata": {
        "id": "4EjTTVl_-3o0"
      },
      "source": [
        "# resizes images to required dimensions for VGG16\n",
        "scaled_up_layer = K.layers.Lambda(lambda i: tf.image.resize_image_with_pad(\n",
        "    image=i,\n",
        "    target_height=48,\n",
        "    target_width=48,\n",
        "    method=tf.image.ResizeMethod.BILINEAR))(input)"
      ],
      "execution_count": 8,
      "outputs": []
    },
    {
      "cell_type": "code",
      "metadata": {
        "id": "W2l06znt_xpW",
        "outputId": "ca112208-4cbc-4282-fcde-5f6cc3b606de",
        "colab": {
          "base_uri": "https://localhost:8080/",
          "height": 92
        }
      },
      "source": [
        "# Load VGG16 without the top classification layer\n",
        "base_model = K.applications.VGG16(weights='imagenet',\n",
        "                                  include_top=False,\n",
        "                                  input_tensor=scaled_up_layer,\n",
        "                                  input_shape=(48, 48, 3))"
      ],
      "execution_count": 9,
      "outputs": [
        {
          "output_type": "stream",
          "text": [
            "WARNING:tensorflow:From /tensorflow-1.15.2/python3.6/tensorflow_core/python/ops/resource_variable_ops.py:1630: calling BaseResourceVariable.__init__ (from tensorflow.python.ops.resource_variable_ops) with constraint is deprecated and will be removed in a future version.\n",
            "Instructions for updating:\n",
            "If using Keras pass *_constraint arguments to layers.\n"
          ],
          "name": "stdout"
        }
      ]
    },
    {
      "cell_type": "code",
      "metadata": {
        "id": "77iKsvdB_1YE"
      },
      "source": [
        "# Extracts the last layer from third block of VGG16 model\n",
        "last = base_model.get_layer('block3_pool').output"
      ],
      "execution_count": 10,
      "outputs": []
    },
    {
      "cell_type": "code",
      "metadata": {
        "id": "6zYQ0Ykn_9ab"
      },
      "source": [
        "# Freezes the layers of VGG16\n",
        "base_model.trainable = False\n"
      ],
      "execution_count": 11,
      "outputs": []
    },
    {
      "cell_type": "code",
      "metadata": {
        "id": "-ejQw5QM_7Pc",
        "outputId": "79764476-6526-4faa-907b-535221792772",
        "colab": {
          "base_uri": "https://localhost:8080/",
          "height": 55
        }
      },
      "source": [
        "# Adds classification layers on top of model\n",
        "layer = K.layers.GlobalAveragePooling2D()(last)\n",
        "layer = K.layers.BatchNormalization()(layer)\n",
        "layer = K.layers.Dense(units=256, activation='relu')(layer)\n",
        "layer = K.layers.Dropout(rate=0.6)(layer)\n",
        "# CIFAR 10 has 10 classes\n",
        "classes = 10\n",
        "output = K.layers.Dense(units=classes, activation='softmax')(layer)\n",
        "model = K.Model(input, output)"
      ],
      "execution_count": 12,
      "outputs": [
        {
          "output_type": "stream",
          "text": [
            "WARNING:tensorflow:Large dropout rate: 0.6 (>0.5). In TensorFlow 2.x, dropout() uses dropout rate instead of keep_prob. Please ensure that this is intended.\n"
          ],
          "name": "stdout"
        }
      ]
    },
    {
      "cell_type": "code",
      "metadata": {
        "id": "BQ5ReU8__9_y"
      },
      "source": [
        "Adam = K.optimizers.Adam(lr=0.0001)\n",
        "model.compile(loss='binary_crossentropy',\n",
        "              optimizer=Adam,\n",
        "              metrics=['accuracy'])"
      ],
      "execution_count": 13,
      "outputs": []
    },
    {
      "cell_type": "code",
      "metadata": {
        "id": "Af9K_FcmjHgD",
        "outputId": "c4b2a4c0-1a05-4516-9b63-875e7cdbc1b3",
        "colab": {
          "base_uri": "https://localhost:8080/",
          "height": 781
        }
      },
      "source": [
        "model.summary()"
      ],
      "execution_count": 14,
      "outputs": [
        {
          "output_type": "stream",
          "text": [
            "Model: \"model\"\n",
            "_________________________________________________________________\n",
            "Layer (type)                 Output Shape              Param #   \n",
            "=================================================================\n",
            "input_1 (InputLayer)         [(None, 32, 32, 3)]       0         \n",
            "_________________________________________________________________\n",
            "lambda (Lambda)              (None, 48, 48, 3)         0         \n",
            "_________________________________________________________________\n",
            "block1_conv1 (Conv2D)        (None, 48, 48, 64)        1792      \n",
            "_________________________________________________________________\n",
            "block1_conv2 (Conv2D)        (None, 48, 48, 64)        36928     \n",
            "_________________________________________________________________\n",
            "block1_pool (MaxPooling2D)   (None, 24, 24, 64)        0         \n",
            "_________________________________________________________________\n",
            "block2_conv1 (Conv2D)        (None, 24, 24, 128)       73856     \n",
            "_________________________________________________________________\n",
            "block2_conv2 (Conv2D)        (None, 24, 24, 128)       147584    \n",
            "_________________________________________________________________\n",
            "block2_pool (MaxPooling2D)   (None, 12, 12, 128)       0         \n",
            "_________________________________________________________________\n",
            "block3_conv1 (Conv2D)        (None, 12, 12, 256)       295168    \n",
            "_________________________________________________________________\n",
            "block3_conv2 (Conv2D)        (None, 12, 12, 256)       590080    \n",
            "_________________________________________________________________\n",
            "block3_conv3 (Conv2D)        (None, 12, 12, 256)       590080    \n",
            "_________________________________________________________________\n",
            "block3_pool (MaxPooling2D)   (None, 6, 6, 256)         0         \n",
            "_________________________________________________________________\n",
            "global_average_pooling2d (Gl (None, 256)               0         \n",
            "_________________________________________________________________\n",
            "batch_normalization (BatchNo (None, 256)               1024      \n",
            "_________________________________________________________________\n",
            "dense (Dense)                (None, 256)               65792     \n",
            "_________________________________________________________________\n",
            "dropout (Dropout)            (None, 256)               0         \n",
            "_________________________________________________________________\n",
            "dense_1 (Dense)              (None, 10)                2570      \n",
            "=================================================================\n",
            "Total params: 1,804,874\n",
            "Trainable params: 68,874\n",
            "Non-trainable params: 1,736,000\n",
            "_________________________________________________________________\n"
          ],
          "name": "stdout"
        }
      ]
    },
    {
      "cell_type": "markdown",
      "metadata": {
        "id": "mzVr5RacA9WC"
      },
      "source": [
        "Train the Model"
      ]
    },
    {
      "cell_type": "code",
      "metadata": {
        "id": "lDN5VbWxBDrP",
        "outputId": "5c191ca8-67e2-439f-a56e-cb835b150ef7",
        "colab": {
          "base_uri": "https://localhost:8080/",
          "height": 837
        }
      },
      "source": [
        "history = model.fit(x_train, y_train,\n",
        "                    batch_size=128,\n",
        "                    validation_data=(x_test, y_test),\n",
        "                    epochs=20)"
      ],
      "execution_count": 15,
      "outputs": [
        {
          "output_type": "stream",
          "text": [
            "WARNING:tensorflow:From /tensorflow-1.15.2/python3.6/tensorflow_core/python/ops/math_grad.py:1424: where (from tensorflow.python.ops.array_ops) is deprecated and will be removed in a future version.\n",
            "Instructions for updating:\n",
            "Use tf.where in 2.0, which has the same broadcast rule as np.where\n",
            "Train on 50000 samples, validate on 10000 samples\n",
            "Epoch 1/20\n",
            "50000/50000 [==============================] - 8s 170us/sample - loss: 0.2926 - acc: 0.8976 - val_loss: 0.2021 - val_acc: 0.9213\n",
            "Epoch 2/20\n",
            "50000/50000 [==============================] - 7s 136us/sample - loss: 0.2236 - acc: 0.9150 - val_loss: 0.1774 - val_acc: 0.9309\n",
            "Epoch 3/20\n",
            "50000/50000 [==============================] - 7s 136us/sample - loss: 0.2004 - acc: 0.9223 - val_loss: 0.1650 - val_acc: 0.9356\n",
            "Epoch 4/20\n",
            "50000/50000 [==============================] - 7s 135us/sample - loss: 0.1870 - acc: 0.9273 - val_loss: 0.1571 - val_acc: 0.9388\n",
            "Epoch 5/20\n",
            "50000/50000 [==============================] - 7s 135us/sample - loss: 0.1776 - acc: 0.9310 - val_loss: 0.1514 - val_acc: 0.9409\n",
            "Epoch 6/20\n",
            "50000/50000 [==============================] - 7s 135us/sample - loss: 0.1708 - acc: 0.9330 - val_loss: 0.1470 - val_acc: 0.9424\n",
            "Epoch 7/20\n",
            "50000/50000 [==============================] - 7s 135us/sample - loss: 0.1654 - acc: 0.9354 - val_loss: 0.1436 - val_acc: 0.9438\n",
            "Epoch 8/20\n",
            "50000/50000 [==============================] - 7s 135us/sample - loss: 0.1615 - acc: 0.9369 - val_loss: 0.1409 - val_acc: 0.9450\n",
            "Epoch 9/20\n",
            "50000/50000 [==============================] - 7s 135us/sample - loss: 0.1579 - acc: 0.9382 - val_loss: 0.1387 - val_acc: 0.9457\n",
            "Epoch 10/20\n",
            "50000/50000 [==============================] - 7s 135us/sample - loss: 0.1552 - acc: 0.9395 - val_loss: 0.1363 - val_acc: 0.9471\n",
            "Epoch 11/20\n",
            "50000/50000 [==============================] - 7s 135us/sample - loss: 0.1521 - acc: 0.9404 - val_loss: 0.1346 - val_acc: 0.9475\n",
            "Epoch 12/20\n",
            "50000/50000 [==============================] - 7s 136us/sample - loss: 0.1501 - acc: 0.9413 - val_loss: 0.1330 - val_acc: 0.9480\n",
            "Epoch 13/20\n",
            "50000/50000 [==============================] - 7s 134us/sample - loss: 0.1477 - acc: 0.9423 - val_loss: 0.1314 - val_acc: 0.9487\n",
            "Epoch 14/20\n",
            "50000/50000 [==============================] - 7s 135us/sample - loss: 0.1463 - acc: 0.9425 - val_loss: 0.1302 - val_acc: 0.9492\n",
            "Epoch 15/20\n",
            "50000/50000 [==============================] - 7s 135us/sample - loss: 0.1446 - acc: 0.9433 - val_loss: 0.1289 - val_acc: 0.9497\n",
            "Epoch 16/20\n",
            "50000/50000 [==============================] - 7s 135us/sample - loss: 0.1436 - acc: 0.9436 - val_loss: 0.1280 - val_acc: 0.9501\n",
            "Epoch 17/20\n",
            "50000/50000 [==============================] - 7s 134us/sample - loss: 0.1416 - acc: 0.9444 - val_loss: 0.1269 - val_acc: 0.9507\n",
            "Epoch 18/20\n",
            "50000/50000 [==============================] - 7s 135us/sample - loss: 0.1403 - acc: 0.9449 - val_loss: 0.1258 - val_acc: 0.9514\n",
            "Epoch 19/20\n",
            "50000/50000 [==============================] - 7s 135us/sample - loss: 0.1390 - acc: 0.9456 - val_loss: 0.1253 - val_acc: 0.9514\n",
            "Epoch 20/20\n",
            "50000/50000 [==============================] - 7s 135us/sample - loss: 0.1379 - acc: 0.9460 - val_loss: 0.1245 - val_acc: 0.9517\n"
          ],
          "name": "stdout"
        }
      ]
    },
    {
      "cell_type": "code",
      "metadata": {
        "id": "C1K_gVh_GGnq"
      },
      "source": [
        "model.save('cifar10.h5')\n",
        "\n"
      ],
      "execution_count": 16,
      "outputs": []
    },
    {
      "cell_type": "code",
      "metadata": {
        "id": "sfXHuLXGh14f"
      },
      "source": [
        "K.learning_phase = K.backend.learning_phase "
      ],
      "execution_count": 17,
      "outputs": []
    },
    {
      "cell_type": "code",
      "metadata": {
        "id": "QAteAV-Ph2kn"
      },
      "source": [
        "_, (X, Y) = K.datasets.cifar10.load_data()"
      ],
      "execution_count": 18,
      "outputs": []
    },
    {
      "cell_type": "code",
      "metadata": {
        "id": "WUu12UU-h-LB"
      },
      "source": [
        "X_p, Y_p = preprocess_data(X, Y)"
      ],
      "execution_count": 19,
      "outputs": []
    },
    {
      "cell_type": "code",
      "metadata": {
        "id": "mGUhxYiwjNN6",
        "outputId": "a651b26d-6916-4bec-8c2d-e1a3f9acfca6",
        "colab": {
          "base_uri": "https://localhost:8080/",
          "height": 35
        }
      },
      "source": [
        "tf.keras.models.Model() "
      ],
      "execution_count": 23,
      "outputs": [
        {
          "output_type": "execute_result",
          "data": {
            "text/plain": [
              "<tensorflow.python.keras.engine.training.Model at 0x7fe324b136d8>"
            ]
          },
          "metadata": {
            "tags": []
          },
          "execution_count": 23
        }
      ]
    },
    {
      "cell_type": "markdown",
      "metadata": {
        "id": "Tf1n5S5Afa_k"
      },
      "source": [
        ""
      ]
    },
    {
      "cell_type": "code",
      "metadata": {
        "id": "mmRmoxHJj4lv",
        "outputId": "648ed287-42b3-421b-baa6-f8fe029c1cf3",
        "colab": {
          "base_uri": "https://localhost:8080/",
          "height": 54
        }
      },
      "source": [
        "model.evaluate(X_p, Y_p, batch_size=128, verbose=1)"
      ],
      "execution_count": 22,
      "outputs": [
        {
          "output_type": "stream",
          "text": [
            "10000/10000 [==============================] - 1s 110us/sample - loss: 0.1245 - acc: 0.9517\n"
          ],
          "name": "stdout"
        },
        {
          "output_type": "execute_result",
          "data": {
            "text/plain": [
              "[0.12447632614374161, 0.95173985]"
            ]
          },
          "metadata": {
            "tags": []
          },
          "execution_count": 22
        }
      ]
    }
  ]
}